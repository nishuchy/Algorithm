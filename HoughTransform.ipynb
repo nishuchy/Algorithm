{
  "nbformat": 4,
  "nbformat_minor": 0,
  "metadata": {
    "colab": {
      "provenance": []
    },
    "kernelspec": {
      "name": "python3",
      "display_name": "Python 3"
    },
    "language_info": {
      "name": "python"
    }
  },
  "cells": [
    {
      "cell_type": "code",
      "execution_count": 1,
      "metadata": {
        "colab": {
          "base_uri": "https://localhost:8080/",
          "height": 228
        },
        "id": "umUu6G6qb3lm",
        "outputId": "c4af18f9-88b8-4d8f-872f-0a6224042c7a"
      },
      "outputs": [
        {
          "output_type": "error",
          "ename": "error",
          "evalue": "OpenCV(4.8.0) /io/opencv/modules/imgproc/src/color.cpp:182: error: (-215:Assertion failed) !_src.empty() in function 'cvtColor'\n",
          "traceback": [
            "\u001b[0;31m---------------------------------------------------------------------------\u001b[0m",
            "\u001b[0;31merror\u001b[0m                                     Traceback (most recent call last)",
            "\u001b[0;32m<ipython-input-1-c59b5a1aa048>\u001b[0m in \u001b[0;36m<cell line: 10>\u001b[0;34m()\u001b[0m\n\u001b[1;32m      8\u001b[0m \u001b[0;34m\u001b[0m\u001b[0m\n\u001b[1;32m      9\u001b[0m \u001b[0;31m# Convert the image to grayscale\u001b[0m\u001b[0;34m\u001b[0m\u001b[0;34m\u001b[0m\u001b[0m\n\u001b[0;32m---> 10\u001b[0;31m \u001b[0mgray\u001b[0m \u001b[0;34m=\u001b[0m \u001b[0mcv2\u001b[0m\u001b[0;34m.\u001b[0m\u001b[0mcvtColor\u001b[0m\u001b[0;34m(\u001b[0m\u001b[0mimage\u001b[0m\u001b[0;34m,\u001b[0m \u001b[0mcv2\u001b[0m\u001b[0;34m.\u001b[0m\u001b[0mCOLOR_BGR2GRAY\u001b[0m\u001b[0;34m)\u001b[0m\u001b[0;34m\u001b[0m\u001b[0;34m\u001b[0m\u001b[0m\n\u001b[0m\u001b[1;32m     11\u001b[0m \u001b[0mcv2_imshow\u001b[0m\u001b[0;34m(\u001b[0m\u001b[0mgray\u001b[0m\u001b[0;34m)\u001b[0m\u001b[0;34m\u001b[0m\u001b[0;34m\u001b[0m\u001b[0m\n\u001b[1;32m     12\u001b[0m \u001b[0;31m# Apply edge detection (e.g., Canny)\u001b[0m\u001b[0;34m\u001b[0m\u001b[0;34m\u001b[0m\u001b[0m\n",
            "\u001b[0;31merror\u001b[0m: OpenCV(4.8.0) /io/opencv/modules/imgproc/src/color.cpp:182: error: (-215:Assertion failed) !_src.empty() in function 'cvtColor'\n"
          ]
        }
      ],
      "source": [
        "import cv2\n",
        "import numpy as np\n",
        "\n",
        "from google.colab.patches import cv2_imshow\n",
        "\n",
        "# Load an image\n",
        "image = cv2.imread('/content/strightline.png')\n",
        "\n",
        "# Convert the image to grayscale\n",
        "gray = cv2.cvtColor(image, cv2.COLOR_BGR2GRAY)\n",
        "cv2_imshow(gray)\n",
        "# Apply edge detection (e.g., Canny)\n",
        "edges = cv2.Canny(gray, 50, 150, apertureSize=3)\n",
        "cv2_imshow(edges)\n",
        "# Run Hough Transform to detect lines\n",
        "lines = cv2.HoughLines(edges, 1, np.pi / 120, 200)  # Adjust the last parameter (threshold) as needed\n",
        "\n",
        "# Draw detected lines on the original image\n",
        "\n",
        "for rho, theta in lines[:, 0]:\n",
        "        a = np.cos(theta)\n",
        "        b = np.sin(theta)\n",
        "        x0 = a * rho\n",
        "        y0 = b * rho\n",
        "        x1 = int(x0 + 1000 * (-b))\n",
        "        y1 = int(y0 + 1000 * (a))\n",
        "        x2 = int(x0 - 1000 * (-b))\n",
        "        y2 = int(y0 - 1000 * (a))\n",
        "        print(x1,y1)\n",
        "        print(x2,y2)\n",
        "        cv2.line(image, (x1, y1), (x2, y2), (0, 0, 255), 2)\n",
        "\n",
        "# Show the result\n",
        "#cv2_imshow(image)\n",
        "cv2.waitKey(0)\n",
        "cv2.destroyAllWindows()"
      ]
    },
    {
      "cell_type": "code",
      "source": [
        "import cv2\n",
        "import numpy as np\n",
        "\n",
        "from google.colab.patches import cv2_imshow\n",
        "\n",
        "def hough_lines(image, rho_resolution, theta_resolution, threshold):\n",
        "    # Define the range of rho and theta\n",
        "    width, height = image.shape\n",
        "    max_rho = np.sqrt(width ** 2 + height ** 2)\n",
        "    num_rhos = int(max_rho / rho_resolution)\n",
        "    num_thetas = int(np.pi / theta_resolution)\n",
        "\n",
        "    # Initialize accumulator\n",
        "    accumulator = np.zeros((num_rhos, num_thetas), dtype=np.uint64)\n",
        "\n",
        "    # Define theta values\n",
        "    thetas = np.linspace(0, np.pi, num_thetas)\n",
        "\n",
        "    # Detect edges\n",
        "    edges = np.argwhere(image > 0)\n",
        "\n",
        "    # Voting\n",
        "    for edge in edges:\n",
        "        x, y = edge\n",
        "        for theta_index, theta in enumerate(thetas):\n",
        "            rho = x * np.cos(theta) + y * np.sin(theta)\n",
        "            rho_index = int(rho / rho_resolution)\n",
        "            accumulator[rho_index, theta_index] += 1\n",
        "\n",
        "    # Extract lines\n",
        "    lines = np.argwhere(accumulator >= threshold)\n",
        "\n",
        "    return lines * [rho_resolution, theta_resolution]\n",
        "\n",
        "# Example usage:\n",
        "image = cv2.imread('/content/strightline.png')\n",
        "\n",
        "# Convert the image to grayscale\n",
        "gray = cv2.cvtColor(image, cv2.COLOR_BGR2GRAY)\n",
        "cv2_imshow(gray)\n",
        "# Apply edge detection (e.g., Canny)\n",
        "edges = cv2.Canny(gray, 50, 150, apertureSize=3)\n",
        "cv2_imshow(edges)\n",
        "lines = hough_lines(edges, rho_resolution=1, theta_resolution=np.pi/180, threshold=10)\n",
        "print(lines)"
      ],
      "metadata": {
        "colab": {
          "base_uri": "https://localhost:8080/",
          "height": 293
        },
        "id": "_t8LmCtatRiE",
        "outputId": "eab12821-f0c7-40e6-9cc0-a17d9207e1dc"
      },
      "execution_count": null,
      "outputs": [
        {
          "output_type": "display_data",
          "data": {
            "text/plain": [
              "<PIL.Image.Image image mode=L size=488x77>"
            ],
            "image/png": "[encoded data removed]"
          },
          "metadata": {}
        },
        {
          "output_type": "display_data",
          "data": {
            "text/plain": [
              "<PIL.Image.Image image mode=L size=488x77>"
            ],
            "image/png": "[encoded data removed]"
          },
          "metadata": {}
        },
        {
          "output_type": "stream",
          "name": "stdout",
          "text": [
            "[[  0.           2.61799388]\n",
            " [  0.           2.65290046]\n",
            " [  0.           2.70526034]\n",
            " ...\n",
            " [493.           3.00196631]\n",
            " [493.           3.01941961]\n",
            " [493.           3.0368729 ]]\n"
          ]
        }
      ]
    }
  ]
}