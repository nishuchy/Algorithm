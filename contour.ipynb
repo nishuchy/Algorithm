{
  "nbformat": 4,
  "nbformat_minor": 0,
  "metadata": {
    "colab": {
      "provenance": []
    },
    "kernelspec": {
      "name": "python3",
      "display_name": "Python 3"
    },
    "language_info": {
      "name": "python"
    }
  },
  "cells": [
    {
      "cell_type": "code",
      "execution_count": null,
      "metadata": {
        "id": "TRhznwjCQKKo",
        "colab": {
          "base_uri": "https://localhost:8080/",
          "height": 1000
        },
        "outputId": "5b8cac7e-856a-4142-9ed2-4a2dcfbbd5cf"
      },
      "outputs": [],
      "source": [
        "# import required libraries\n",
        "import cv2\n",
        "import numpy as np\n",
        "from google.colab.patches import cv2_imshow\n",
        "\n",
        "\n",
        "# Load our image\n",
        "image = cv2.imread('/content/IM-0005-0001.jpeg')\n",
        "cv2_imshow(image)\n",
        "cv2.waitKey(0)\n",
        "\n",
        "# Create a black image with same dimensions as our loaded image\n",
        "blank_image = np.zeros((image.shape[0], image.shape[1], 3))\n",
        "\n",
        "# Create a copy of our original image\n",
        "orginal_image = image\n",
        "\n",
        "# Grayscale our image\n",
        "gray = cv2.cvtColor(image,cv2.COLOR_BGR2GRAY)\n",
        "\n",
        "# Find Canny edges\n",
        "edged = cv2.Canny(gray, 50, 200)\n",
        "cv2_imshow(edged)\n",
        "cv2.waitKey(0)\n",
        "\n",
        "# Find contours and print how many were found\n",
        "contours, hierarchy = cv2.findContours(edged.copy(), cv2.RETR_EXTERNAL, cv2.CHAIN_APPROX_NONE)\n",
        "print (\"Number of contours found = \", len(contours))\n",
        "\n",
        "#Draw all contours\n",
        "cv2.drawContours(blank_image, contours, -1, (0,255,0), 3)\n",
        "cv2_imshow( blank_image)\n",
        "cv2.waitKey(0)\n",
        "\n",
        "# Draw all contours over blank image\n",
        "cv2.drawContours(image, contours, -1, (0,255,0), 3)\n",
        "cv2.imshow('3 - All Contours', image)\n",
        "cv2.waitKey(0)\n",
        "\n",
        "cv2.destroyAllWindows()\n",
        "\n"
      ]
    },
    {
      "cell_type": "code",
      "source": [],
      "metadata": {
        "id": "i2u1ztUgCpx0"
      },
      "execution_count": null,
      "outputs": []
    },
    {
      "cell_type": "code",
      "source": [],
      "metadata": {
        "id": "unBTV1QHCqRT"
      },
      "execution_count": null,
      "outputs": []
    },
    {
      "cell_type": "code",
      "source": [],
      "metadata": {
        "id": "jCmQ9fa1Cqm7"
      },
      "execution_count": null,
      "outputs": []
    },
    {
      "cell_type": "code",
      "source": [
        "# Sort contours based on area in reverse order\n",
        "contours = sorted(contours, key=cv2.contourArea, reverse=True)\n",
        "\n",
        "# Loop through sorted contours and do something with them\n",
        "for contour in contours:\n",
        "    # Do something with each contour, for example, draw it\n",
        "    cv2.drawContours(img, [contour], -1, (0, 255, 0), 2)\n",
        "    cv2_imshow(img)\n",
        "\n",
        "# Display the result\n"
      ],
      "metadata": {
        "colab": {
          "base_uri": "https://localhost:8080/",
          "height": 1000
        },
        "id": "_Q7gI-eIeqUk",
        "outputId": "b5bc2039-db86-4f49-bbe6-89784d6a34b1"
      },
      "execution_count": null,
      "outputs": []
    }
  ]
}